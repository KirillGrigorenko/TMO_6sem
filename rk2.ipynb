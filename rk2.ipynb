{
 "cells": [
  {
   "cell_type": "code",
   "execution_count": null,
   "id": "1e2bb994",
   "metadata": {},
   "outputs": [],
   "source": [
    "pip install kagglehub"
   ]
  },
  {
   "cell_type": "code",
   "execution_count": null,
   "id": "63395091",
   "metadata": {},
   "outputs": [],
   "source": [
    "python.exe -m pip install --upgrade pip"
   ]
  },
  {
   "cell_type": "code",
   "execution_count": null,
   "id": "a13515b3",
   "metadata": {},
   "outputs": [],
   "source": [
    "import kagglehub\n",
    "\n",
    "# Download latest version\n",
    "path = kagglehub.dataset_download(\"atharvasoundankar/global-housing-market-analysis-2015-2024\")\n",
    "\n",
    "print(\"Path to dataset files:\", path)"
   ]
  },
  {
   "cell_type": "code",
   "execution_count": 4,
   "id": "b700b10f",
   "metadata": {},
   "outputs": [
    {
     "data": {
      "text/html": [
       "<div>\n",
       "<style scoped>\n",
       "    .dataframe tbody tr th:only-of-type {\n",
       "        vertical-align: middle;\n",
       "    }\n",
       "\n",
       "    .dataframe tbody tr th {\n",
       "        vertical-align: top;\n",
       "    }\n",
       "\n",
       "    .dataframe thead th {\n",
       "        text-align: right;\n",
       "    }\n",
       "</style>\n",
       "<table border=\"1\" class=\"dataframe\">\n",
       "  <thead>\n",
       "    <tr style=\"text-align: right;\">\n",
       "      <th></th>\n",
       "      <th>Country</th>\n",
       "      <th>Year</th>\n",
       "      <th>House Price Index</th>\n",
       "      <th>Rent Index</th>\n",
       "      <th>Affordability Ratio</th>\n",
       "      <th>Mortgage Rate (%)</th>\n",
       "      <th>Inflation Rate (%)</th>\n",
       "      <th>GDP Growth (%)</th>\n",
       "      <th>Population Growth (%)</th>\n",
       "      <th>Urbanization Rate (%)</th>\n",
       "      <th>Construction Index</th>\n",
       "    </tr>\n",
       "  </thead>\n",
       "  <tbody>\n",
       "    <tr>\n",
       "      <th>0</th>\n",
       "      <td>USA</td>\n",
       "      <td>2015</td>\n",
       "      <td>117.454012</td>\n",
       "      <td>116.550001</td>\n",
       "      <td>9.587945</td>\n",
       "      <td>4.493292</td>\n",
       "      <td>1.514121</td>\n",
       "      <td>-0.752044</td>\n",
       "      <td>-0.796707</td>\n",
       "      <td>85.985284</td>\n",
       "      <td>118.089201</td>\n",
       "    </tr>\n",
       "    <tr>\n",
       "      <th>1</th>\n",
       "      <td>USA</td>\n",
       "      <td>2016</td>\n",
       "      <td>150.807258</td>\n",
       "      <td>51.440915</td>\n",
       "      <td>11.729189</td>\n",
       "      <td>5.662213</td>\n",
       "      <td>1.880204</td>\n",
       "      <td>-0.545400</td>\n",
       "      <td>-0.358084</td>\n",
       "      <td>69.127267</td>\n",
       "      <td>111.980515</td>\n",
       "    </tr>\n",
       "    <tr>\n",
       "      <th>2</th>\n",
       "      <td>USA</td>\n",
       "      <td>2017</td>\n",
       "      <td>123.194502</td>\n",
       "      <td>70.386040</td>\n",
       "      <td>8.506676</td>\n",
       "      <td>2.197469</td>\n",
       "      <td>2.398940</td>\n",
       "      <td>0.930895</td>\n",
       "      <td>0.596245</td>\n",
       "      <td>83.555279</td>\n",
       "      <td>85.973903</td>\n",
       "    </tr>\n",
       "    <tr>\n",
       "      <th>3</th>\n",
       "      <td>USA</td>\n",
       "      <td>2018</td>\n",
       "      <td>131.423444</td>\n",
       "      <td>91.469020</td>\n",
       "      <td>3.418054</td>\n",
       "      <td>4.537724</td>\n",
       "      <td>1.608407</td>\n",
       "      <td>-1.479587</td>\n",
       "      <td>2.321099</td>\n",
       "      <td>88.968961</td>\n",
       "      <td>134.671788</td>\n",
       "    </tr>\n",
       "    <tr>\n",
       "      <th>4</th>\n",
       "      <td>USA</td>\n",
       "      <td>2019</td>\n",
       "      <td>110.461377</td>\n",
       "      <td>56.837048</td>\n",
       "      <td>9.158097</td>\n",
       "      <td>3.700762</td>\n",
       "      <td>1.293249</td>\n",
       "      <td>1.961415</td>\n",
       "      <td>-0.879640</td>\n",
       "      <td>87.279612</td>\n",
       "      <td>90.702399</td>\n",
       "    </tr>\n",
       "  </tbody>\n",
       "</table>\n",
       "</div>"
      ],
      "text/plain": [
       "  Country  Year  House Price Index  Rent Index  Affordability Ratio  \\\n",
       "0     USA  2015         117.454012  116.550001             9.587945   \n",
       "1     USA  2016         150.807258   51.440915            11.729189   \n",
       "2     USA  2017         123.194502   70.386040             8.506676   \n",
       "3     USA  2018         131.423444   91.469020             3.418054   \n",
       "4     USA  2019         110.461377   56.837048             9.158097   \n",
       "\n",
       "   Mortgage Rate (%)  Inflation Rate (%)  GDP Growth (%)  \\\n",
       "0           4.493292            1.514121       -0.752044   \n",
       "1           5.662213            1.880204       -0.545400   \n",
       "2           2.197469            2.398940        0.930895   \n",
       "3           4.537724            1.608407       -1.479587   \n",
       "4           3.700762            1.293249        1.961415   \n",
       "\n",
       "   Population Growth (%)  Urbanization Rate (%)  Construction Index  \n",
       "0              -0.796707              85.985284          118.089201  \n",
       "1              -0.358084              69.127267          111.980515  \n",
       "2               0.596245              83.555279           85.973903  \n",
       "3               2.321099              88.968961          134.671788  \n",
       "4              -0.879640              87.279612           90.702399  "
      ]
     },
     "execution_count": 4,
     "metadata": {},
     "output_type": "execute_result"
    }
   ],
   "source": [
    "# Импорт всех необходимых библиотек\n",
    "import os\n",
    "import pandas as pd\n",
    "import numpy as np\n",
    "from sklearn.model_selection import train_test_split\n",
    "from sklearn.tree import DecisionTreeRegressor\n",
    "from sklearn.ensemble import RandomForestRegressor\n",
    "from sklearn.metrics import mean_squared_error, r2_score, mean_absolute_error\n",
    "from sklearn.preprocessing import OneHotEncoder, StandardScaler\n",
    "from sklearn.compose import ColumnTransformer\n",
    "import matplotlib.pyplot as plt\n",
    "import seaborn as sns\n",
    "\n",
    "# Установка пути к данным Kaggle\n",
    "kaggle_path = r'C:\\Users\\ICL1407\\.cache\\kagglehub\\datasets\\atharvasoundankar\\global-housing-market-analysis-2015-2024\\versions\\1'\n",
    "\n",
    "# Поиск CSV файла в указанной директории\n",
    "csv_files = [f for f in os.listdir(kaggle_path) if f.endswith('.csv')]\n",
    "if not csv_files:\n",
    "    raise FileNotFoundError(\"В указанной директории не найдено CSV файлов\")\n",
    "\n",
    "# Загрузка первого найденного CSV файла\n",
    "data_path = os.path.join(kaggle_path, csv_files[0])\n",
    "df = pd.read_csv(data_path)\n",
    "\n",
    "# Показать первые 5 строк данных\n",
    "df.head()\n"
   ]
  },
  {
   "cell_type": "code",
   "execution_count": null,
   "id": "9341c765",
   "metadata": {},
   "outputs": [],
   "source": [
    "# Загрузка данных\n",
    "data_path = r'C:\\Users\\ICL1407\\.cache\\kagglehub\\datasets\\atharvasoundankar\\global-housing-market-analysis-2015-2024\\versions\\1\\Global Housing Market.csv'\n",
    "df = pd.read_csv(data_path)\n",
    "\n",
    "# Предварительный анализ\n",
    "print(\"Первые 5 строк данных:\")\n",
    "print(df.head())\n",
    "print(\"\\nИнформация о данных:\")\n",
    "print(df.info())\n",
    "print(\"\\nПропущенные значения:\")\n",
    "print(df.isnull().sum())"
   ]
  },
  {
   "cell_type": "code",
   "execution_count": 6,
   "id": "76b78d28",
   "metadata": {},
   "outputs": [
    {
     "name": "stdout",
     "output_type": "stream",
     "text": [
      "Размер данных: (200, 11)\n",
      "\n",
      "Типы данных:\n",
      "Country                   object\n",
      "Year                       int64\n",
      "House Price Index        float64\n",
      "Rent Index               float64\n",
      "Affordability Ratio      float64\n",
      "Mortgage Rate (%)        float64\n",
      "Inflation Rate (%)       float64\n",
      "GDP Growth (%)           float64\n",
      "Population Growth (%)    float64\n",
      "Urbanization Rate (%)    float64\n",
      "Construction Index       float64\n",
      "dtype: object\n",
      "\n",
      "Пропущенные значения:\n",
      "Country                  0\n",
      "Year                     0\n",
      "House Price Index        0\n",
      "Rent Index               0\n",
      "Affordability Ratio      0\n",
      "Mortgage Rate (%)        0\n",
      "Inflation Rate (%)       0\n",
      "GDP Growth (%)           0\n",
      "Population Growth (%)    0\n",
      "Urbanization Rate (%)    0\n",
      "Construction Index       0\n",
      "dtype: int64\n"
     ]
    }
   ],
   "source": [
    "# Предварительный анализ данных\n",
    "print(\"Размер данных:\", df.shape)\n",
    "print(\"\\nТипы данных:\")\n",
    "print(df.dtypes)\n",
    "print(\"\\nПропущенные значения:\")\n",
    "print(df.isnull().sum())"
   ]
  },
  {
   "cell_type": "code",
   "execution_count": 13,
   "id": "951212e5",
   "metadata": {},
   "outputs": [],
   "source": [
    "# Удаление ненужных столбцов\n",
    "df = df.drop(['Unnamed: 0', 'Country_Code', 'Region'], axis=1, errors='ignore')\n",
    "\n",
    "# Проверка наличия целевой переменной\n",
    "if 'House Price Index' not in df.columns:\n",
    "    print(\"Доступные столбцы:\", df.columns.tolist())\n",
    "    raise ValueError(\"Столбец 'House Price Index' не найден\")\n",
    "\n",
    "# Заполнение пропусков\n",
    "numeric_cols = df.select_dtypes(include=['int64', 'float64']).columns\n",
    "df[numeric_cols] = df[numeric_cols].fillna(df[numeric_cols].median())\n",
    "\n",
    "# Разделение на признаки и целевую переменную\n",
    "X = df.drop('House Price Index', axis=1)\n",
    "y = df['House Price Index']"
   ]
  },
  {
   "cell_type": "code",
   "execution_count": 14,
   "id": "9ecaca9a",
   "metadata": {},
   "outputs": [
    {
     "name": "stdout",
     "output_type": "stream",
     "text": [
      "\n",
      "Признаки (X):\n",
      "  Country  Year  Rent Index  Affordability Ratio  Mortgage Rate (%)  \\\n",
      "0     USA  2015  116.550001             9.587945           4.493292   \n",
      "1     USA  2016   51.440915            11.729189           5.662213   \n",
      "2     USA  2017   70.386040             8.506676           2.197469   \n",
      "3     USA  2018   91.469020             3.418054           4.537724   \n",
      "4     USA  2019   56.837048             9.158097           3.700762   \n",
      "\n",
      "   Inflation Rate (%)  GDP Growth (%)  Population Growth (%)  \\\n",
      "0            1.514121       -0.752044              -0.796707   \n",
      "1            1.880204       -0.545400              -0.358084   \n",
      "2            2.398940        0.930895               0.596245   \n",
      "3            1.608407       -1.479587               2.321099   \n",
      "4            1.293249        1.961415              -0.879640   \n",
      "\n",
      "   Urbanization Rate (%)  Construction Index  \n",
      "0              85.985284          118.089201  \n",
      "1              69.127267          111.980515  \n",
      "2              83.555279           85.973903  \n",
      "3              88.968961          134.671788  \n",
      "4              87.279612           90.702399  \n",
      "\n",
      "Целевая переменная (y):\n",
      "0    117.454012\n",
      "1    150.807258\n",
      "2    123.194502\n",
      "3    131.423444\n",
      "4    110.461377\n",
      "Name: House Price Index, dtype: float64\n",
      "\n",
      "Категориальные признаки: ['Country']\n",
      "Числовые признаки: ['Year', 'House Price Index', 'Rent Index', 'Affordability Ratio', 'Mortgage Rate (%)', 'Inflation Rate (%)', 'GDP Growth (%)', 'Population Growth (%)', 'Urbanization Rate (%)', 'Construction Index']\n"
     ]
    }
   ],
   "source": [
    "print(\"\\nПризнаки (X):\")\n",
    "print(X.head())\n",
    "print(\"\\nЦелевая переменная (y):\")\n",
    "print(y.head())\n",
    "print(\"\\nКатегориальные признаки:\", categorical_cols.tolist())\n",
    "print(\"Числовые признаки:\", numeric_cols.tolist())"
   ]
  },
  {
   "cell_type": "code",
   "execution_count": 15,
   "id": "c5797db1",
   "metadata": {},
   "outputs": [],
   "source": [
    "# Выделение типов признаков\n",
    "categorical_cols = X.select_dtypes(include=['object']).columns\n",
    "numeric_cols = X.select_dtypes(include=['int64', 'float64']).columns\n",
    "\n",
    "# Создание преобразователя\n",
    "preprocessor = ColumnTransformer(\n",
    "    transformers=[\n",
    "        ('num', StandardScaler(), numeric_cols),\n",
    "        ('cat', OneHotEncoder(handle_unknown='ignore'), categorical_cols)\n",
    "    ])\n",
    "\n",
    "# Разделение на train/test\n",
    "X_train, X_test, y_train, y_test = train_test_split(X, y, test_size=0.2, random_state=42)\n",
    "\n",
    "# Применение преобразований\n",
    "X_train_processed = preprocessor.fit_transform(X_train)\n",
    "X_test_processed = preprocessor.transform(X_test)"
   ]
  },
  {
   "cell_type": "code",
   "execution_count": 16,
   "id": "e9d9b9f9",
   "metadata": {},
   "outputs": [
    {
     "name": "stdout",
     "output_type": "stream",
     "text": [
      "Дерево решений:\n",
      "MSE: 1300.94\n",
      "MAE: 31.18\n",
      "R2: -0.41\n",
      "\n",
      "Случайный лес:\n",
      "MSE: 987.60\n",
      "MAE: 26.64\n",
      "R2: -0.07\n"
     ]
    }
   ],
   "source": [
    "# Дерево решений\n",
    "dt_model = DecisionTreeRegressor(max_depth=5, random_state=42)\n",
    "dt_model.fit(X_train_processed, y_train)\n",
    "dt_pred = dt_model.predict(X_test_processed)\n",
    "\n",
    "# Случайный лес\n",
    "rf_model = RandomForestRegressor(n_estimators=100, random_state=42)\n",
    "rf_model.fit(X_train_processed, y_train)\n",
    "rf_pred = rf_model.predict(X_test_processed)\n",
    "\n",
    "# Оценка\n",
    "print(\"Дерево решений:\")\n",
    "print(f\"MSE: {mean_squared_error(y_test, dt_pred):.2f}\")\n",
    "print(f\"MAE: {mean_absolute_error(y_test, dt_pred):.2f}\")\n",
    "print(f\"R2: {r2_score(y_test, dt_pred):.2f}\")\n",
    "\n",
    "print(\"\\nСлучайный лес:\")\n",
    "print(f\"MSE: {mean_squared_error(y_test, rf_pred):.2f}\")\n",
    "print(f\"MAE: {mean_absolute_error(y_test, rf_pred):.2f}\")\n",
    "print(f\"R2: {r2_score(y_test, rf_pred):.2f}\")"
   ]
  },
  {
   "cell_type": "code",
   "execution_count": 17,
   "id": "b7ce2305",
   "metadata": {},
   "outputs": [
    {
     "name": "stderr",
     "output_type": "stream",
     "text": [
      "C:\\Users\\ICL1407\\AppData\\Local\\Temp\\ipykernel_5616\\3861279716.py:11: FutureWarning: \n",
      "\n",
      "Passing `palette` without assigning `hue` is deprecated and will be removed in v0.14.0. Assign the `y` variable to `hue` and set `legend=False` for the same effect.\n",
      "\n",
      "  sns.barplot(x='Importance', y='Feature', data=importance_df, palette='viridis')\n"
     ]
    },
    {
     "data": {
      "image/png": "[encoded data removed]",
      "text/plain": [
       "<Figure size 1000x600 with 1 Axes>"
      ]
     },
     "metadata": {},
     "output_type": "display_data"
    }
   ],
   "source": [
    "# Получение имен признаков после преобразований\n",
    "feature_importances = rf_model.feature_importances_\n",
    "feature_names = numeric_cols.tolist() + list(preprocessor.named_transformers_['cat'].get_feature_names_out(categorical_cols))\n",
    "\n",
    "# Создание DataFrame с важностью\n",
    "importance_df = pd.DataFrame({'Feature': feature_names, 'Importance': feature_importances})\n",
    "importance_df = importance_df.sort_values('Importance', ascending=False).head(15)\n",
    "\n",
    "# Построение графика\n",
    "plt.figure(figsize=(10, 6))\n",
    "sns.barplot(x='Importance', y='Feature', data=importance_df, palette='viridis')\n",
    "plt.title('Топ-15 важных признаков для House Price Index')\n",
    "plt.tight_layout()\n",
    "plt.show()"
   ]
  },
  {
   "cell_type": "code",
   "execution_count": 18,
   "id": "311f3141",
   "metadata": {},
   "outputs": [
    {
     "data": {
      "text/plain": [
       "<Figure size 1200x400 with 0 Axes>"
      ]
     },
     "metadata": {},
     "output_type": "display_data"
    },
    {
     "data": {
      "image/png": "[encoded data removed]",
      "text/plain": [
       "<Figure size 640x480 with 3 Axes>"
      ]
     },
     "metadata": {},
     "output_type": "display_data"
    }
   ],
   "source": [
    "metrics = pd.DataFrame({\n",
    "    'Model': ['Decision Tree', 'Random Forest'],\n",
    "    'MSE': [mean_squared_error(y_test, dt_pred), mean_squared_error(y_test, rf_pred)],\n",
    "    'MAE': [mean_absolute_error(y_test, dt_pred), mean_absolute_error(y_test, rf_pred)],\n",
    "    'R2': [r2_score(y_test, dt_pred), r2_score(y_test, rf_pred)]\n",
    "})\n",
    "\n",
    "plt.figure(figsize=(12, 4))\n",
    "metrics.set_index('Model').plot(kind='bar', subplots=True, layout=(1, 3), legend=False)\n",
    "plt.suptitle('Сравнение моделей для прогноза House Price Index')\n",
    "plt.tight_layout()\n",
    "plt.show()"
   ]
  },
  {
   "cell_type": "code",
   "execution_count": null,
   "id": "58810383",
   "metadata": {},
   "outputs": [],
   "source": [
    "получилось что что то сильно влияет на модель. Беда"
   ]
  }
 ],
 "metadata": {
  "kernelspec": {
   "display_name": "Python 3",
   "language": "python",
   "name": "python3"
  },
  "language_info": {
   "codemirror_mode": {
    "name": "ipython",
    "version": 3
   },
   "file_extension": ".py",
   "mimetype": "text/x-python",
   "name": "python",
   "nbconvert_exporter": "python",
   "pygments_lexer": "ipython3",
   "version": "3.12.2"
  }
 },
 "nbformat": 4,
 "nbformat_minor": 5
}
